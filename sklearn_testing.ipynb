{
 "cells": [
  {
   "cell_type": "code",
   "execution_count": 216,
   "metadata": {},
   "outputs": [],
   "source": [
    "from machine_learning.TitanicDatasetPreprocessing import get_data\n",
    "from machine_learning.GaltonFamiliesPreprocessing import get_regression_data\n",
    "import numpy as np\n",
    "import matplotlib.pyplot as plt\n",
    "import seaborn as sns\n",
    "from sklearn.model_selection import GridSearchCV, cross_val_score\n",
    "from sklearn.metrics import confusion_matrix, accuracy_score, roc_curve, auc, mean_squared_error\n",
    "from sklearn.preprocessing import StandardScaler, MinMaxScaler\n",
    "from sklearn.pipeline import make_pipeline, Pipeline"
   ]
  },
  {
   "cell_type": "code",
   "execution_count": 217,
   "metadata": {},
   "outputs": [],
   "source": [
    "X_train, X_test, y_train, y_test = get_regression_data()"
   ]
  },
  {
   "cell_type": "markdown",
   "metadata": {},
   "source": [
    "## Linear Regression"
   ]
  },
  {
   "cell_type": "code",
   "execution_count": 218,
   "metadata": {},
   "outputs": [
    {
     "name": "stdout",
     "output_type": "stream",
     "text": [
      "Score: 0.7052480821096014\n",
      "Error with normal regression: 3.6463129559685203\n",
      "Predcted coeffs: [-9.94375325e-01 -1.94700829e+12 -1.59300678e+12  2.60309108e+12\n",
      "  3.77499390e+00 -9.00959778e+00  3.61009979e+00]\n"
     ]
    }
   ],
   "source": [
    "from sklearn.linear_model import LinearRegression\n",
    "\n",
    "\n",
    "model = LinearRegression()\n",
    "pipeline = make_pipeline(MinMaxScaler(), model)\n",
    "pipeline.fit(X_train, y_train)\n",
    "score = pipeline.score(X_train, y_train)\n",
    "y_pred = pipeline.predict(X_test)\n",
    "error = mean_squared_error(y_test, y_pred)\n",
    "print(f\"Score: {score}\")\n",
    "print(f'Error with normal regression: {error}')\n",
    "print(f\"Predcted coeffs: {model.coef_}\")"
   ]
  },
  {
   "cell_type": "code",
   "execution_count": 219,
   "metadata": {},
   "outputs": [
    {
     "name": "stdout",
     "output_type": "stream",
     "text": [
      "Error with Lasso Regression: 3.6072636122731483\n"
     ]
    }
   ],
   "source": [
    "from sklearn.linear_model import Lasso\n",
    "\n",
    "model_lasso = Lasso(alpha=0.1)\n",
    "pipeline_lasso = make_pipeline(StandardScaler(), model_lasso)\n",
    "pipeline_lasso.fit(X_train, y_train)\n",
    "y_pred = pipeline_lasso.predict(X_test)\n",
    "error = mean_squared_error(y_test, y_pred)\n",
    "print(f\"Error with Lasso Regression: {error}\")"
   ]
  },
  {
   "cell_type": "code",
   "execution_count": 220,
   "metadata": {},
   "outputs": [
    {
     "name": "stdout",
     "output_type": "stream",
     "text": [
      "Error wirth Ridge Regression: 3.6075820293400236\n"
     ]
    }
   ],
   "source": [
    "from sklearn.linear_model import Ridge\n",
    "\n",
    "\n",
    "model_ridge = Ridge(alpha=50.0)\n",
    "pipeline_ridge = make_pipeline(StandardScaler(), model_ridge)\n",
    "pipeline_ridge.fit(X_train, y_train)\n",
    "y_pred = pipeline_ridge.predict(X_test)\n",
    "error = mean_squared_error(y_test, y_pred)\n",
    "print(f\"Error wirth Ridge Regression: {error}\")"
   ]
  },
  {
   "cell_type": "code",
   "execution_count": 221,
   "metadata": {},
   "outputs": [
    {
     "name": "stdout",
     "output_type": "stream",
     "text": [
      "Error: 3.6072636122731483\n",
      "Mean cross-validation MSE score: -3.958425534562166\n",
      "Params: alpha=0.1\n"
     ]
    }
   ],
   "source": [
    "pipeline = Pipeline([\n",
    "    ('scaler', StandardScaler()),\n",
    "    ('lasso', Lasso())\n",
    "])\n",
    "param_grid = {'lasso__alpha': [0.1, 0.2, 0.5, 1.0, 5.0, 10.0, 50.0, 100.0]}\n",
    "grid_search = GridSearchCV(pipeline, param_grid, cv=5)\n",
    "grid_search.fit(X_train, y_train)\n",
    "best_lasso = grid_search.best_estimator_\n",
    "\n",
    "params = best_lasso.get_params()\n",
    "preds = best_lasso.predict(X_test)\n",
    "error = mean_squared_error(y_test, preds)\n",
    "cross_val_scores = cross_val_score(best_lasso, X_train, y_train, cv=5, scoring='neg_mean_squared_error')\n",
    "print(f\"Error: {error}\")\n",
    "print(f\"Mean cross-validation MSE score: {np.mean(cross_val_scores)}\")\n",
    "print(f\"Params: alpha={params['lasso'].alpha}\")"
   ]
  },
  {
   "cell_type": "code",
   "execution_count": 222,
   "metadata": {},
   "outputs": [
    {
     "name": "stdout",
     "output_type": "stream",
     "text": [
      "Error wirth Lasso Regression after cross validation: 3.615715534283915\n",
      "Params: alpha=0.1\n"
     ]
    }
   ],
   "source": [
    "param_grid = {'alpha': [0.1, 0.2, 0.3, 0.5, 1.0, 1.5, 10.0, 100.0]}\n",
    "grid_search = GridSearchCV(estimator=model_lasso, param_grid=param_grid, cv=5)\n",
    "grid_search.fit(X_train, y_train)\n",
    "best_model = grid_search.best_estimator_\n",
    "\n",
    "params = best_model.get_params()\n",
    "y_pred = best_model.predict(X_test)\n",
    "error = mean_squared_error(y_test, y_pred)\n",
    "\n",
    "print(f\"Error wirth Lasso Regression after cross validation: {error}\")\n",
    "print(f\"Params: alpha={params['alpha']}\")"
   ]
  },
  {
   "cell_type": "code",
   "execution_count": 223,
   "metadata": {},
   "outputs": [
    {
     "name": "stdout",
     "output_type": "stream",
     "text": [
      "Error: 3.6325736479999806\n",
      "Mean cross-validation MSE score: -3.7015831691716485\n",
      "Params: alpha=10.0\n"
     ]
    }
   ],
   "source": [
    "pipeline = Pipeline([\n",
    "    ('scaler', StandardScaler()),\n",
    "    ('ridge', Ridge())\n",
    "])\n",
    "param_grid = {'ridge__alpha': [0.1, 0.2, 0.3, 0.5, 1.0, 1.5, 10.0, 100.0]}\n",
    "grid_search = GridSearchCV(pipeline, param_grid, cv=5)\n",
    "grid_search.fit(X_train, y_train)\n",
    "best_ridge = grid_search.best_estimator_\n",
    "\n",
    "params = best_ridge.get_params()\n",
    "cross_val_scores = cross_val_score(best_ridge, X_test, y_test, cv=5, scoring='neg_mean_squared_error')\n",
    "preds = best_ridge.predict(X_test)\n",
    "error = mean_squared_error(y_test, preds)\n",
    "\n",
    "print(f\"Error: {error}\")\n",
    "print(f\"Mean cross-validation MSE score: {np.mean(cross_val_scores)}\")\n",
    "print(f\"Params: alpha={params['ridge'].alpha}\")"
   ]
  },
  {
   "cell_type": "code",
   "execution_count": 224,
   "metadata": {},
   "outputs": [
    {
     "name": "stdout",
     "output_type": "stream",
     "text": [
      "Coefficients: \n",
      " [938.23786125]\n",
      "Mean squared error: 2548.07\n",
      "Coefficient of determination: 0.47\n"
     ]
    },
    {
     "data": {
      "image/png": "[encoded data removed]",
      "text/plain": [
       "<Figure size 640x480 with 1 Axes>"
      ]
     },
     "metadata": {},
     "output_type": "display_data"
    }
   ],
   "source": [
    "from sklearn import datasets\n",
    "from sklearn.metrics import mean_squared_error, r2_score\n",
    "\n",
    "# Load the diabetes dataset\n",
    "diabetes_X, diabetes_y = datasets.load_diabetes(return_X_y=True)\n",
    "\n",
    "# Use only one feature\n",
    "diabetes_X = diabetes_X[:, np.newaxis, 2]\n",
    "\n",
    "# Split the data into training/testing sets\n",
    "diabetes_X_train = diabetes_X[:-20]\n",
    "diabetes_X_test = diabetes_X[-20:]\n",
    "\n",
    "# Split the targets into training/testing sets\n",
    "diabetes_y_train = diabetes_y[:-20]\n",
    "diabetes_y_test = diabetes_y[-20:]\n",
    "\n",
    "# Create linear regression object\n",
    "regr = LinearRegression()\n",
    "\n",
    "# Train the model using the training sets\n",
    "regr.fit(diabetes_X_train, diabetes_y_train)\n",
    "\n",
    "# Make predictions using the testing set\n",
    "diabetes_y_pred = regr.predict(diabetes_X_test)\n",
    "\n",
    "# The coefficients\n",
    "print(\"Coefficients: \\n\", regr.coef_)\n",
    "# The mean squared error\n",
    "print(\"Mean squared error: %.2f\" % mean_squared_error(diabetes_y_test, diabetes_y_pred))\n",
    "# The coefficient of determination: 1 is perfect prediction\n",
    "print(\"Coefficient of determination: %.2f\" % r2_score(diabetes_y_test, diabetes_y_pred))\n",
    "\n",
    "# Plot outputs\n",
    "plt.scatter(diabetes_X_test, diabetes_y_test, color=\"black\")\n",
    "plt.plot(diabetes_X_test, diabetes_y_pred, color=\"blue\", linewidth=3)\n",
    "\n",
    "plt.xticks(())\n",
    "plt.yticks(())\n",
    "\n",
    "plt.show()"
   ]
  },
  {
   "cell_type": "markdown",
   "metadata": {},
   "source": [
    "## Logistic Regression"
   ]
  },
  {
   "cell_type": "code",
   "execution_count": 225,
   "metadata": {},
   "outputs": [],
   "source": [
    "from sklearn.linear_model import LogisticRegression\n",
    "X_train, X_test, y_train, y_test = get_data()"
   ]
  },
  {
   "cell_type": "code",
   "execution_count": 226,
   "metadata": {},
   "outputs": [
    {
     "name": "stdout",
     "output_type": "stream",
     "text": [
      "Accurancy of basic form of Logistic Regression: 0.8100558659217877\n",
      "Params: {'C': 1.0, 'class_weight': None, 'dual': False, 'fit_intercept': True, 'intercept_scaling': 1, 'l1_ratio': None, 'max_iter': 100, 'multi_class': 'auto', 'n_jobs': None, 'penalty': 'l2', 'random_state': None, 'solver': 'lbfgs', 'tol': 0.0001, 'verbose': 0, 'warm_start': False}\n"
     ]
    }
   ],
   "source": [
    "model = LogisticRegression()\n",
    "pipeline = make_pipeline(StandardScaler(), model)\n",
    "pipeline.fit(X_train, y_train)\n",
    "preds = pipeline.predict(X_test)\n",
    "accurancy = accuracy_score(y_test, preds)\n",
    "print(f\"Accurancy of basic form of Logistic Regression: {accurancy}\")\n",
    "print(f\"Params: {model.get_params()}\")"
   ]
  },
  {
   "cell_type": "code",
   "execution_count": 227,
   "metadata": {},
   "outputs": [
    {
     "data": {
      "image/png": "[encoded data removed]",
      "text/plain": [
       "<Figure size 640x480 with 2 Axes>"
      ]
     },
     "metadata": {},
     "output_type": "display_data"
    }
   ],
   "source": [
    "cm = confusion_matrix(y_test, preds)\n",
    "labels = ['True Negative', 'False Positive', 'False Negative', 'True Positive']\n",
    "label_map = {\n",
    "    (0, 0): labels[0],\n",
    "    (0, 1): labels[1],\n",
    "    (1, 0): labels[2],\n",
    "    (1, 1): labels[3]\n",
    "}\n",
    "annot = np.array([[f'{label_map[(i, j)]}\\n{cm[i, j]}' for j in range(cm.shape[1])] for i in range(cm.shape[0])])\n",
    "plt.figure()\n",
    "sns.heatmap(cm, annot=annot, xticklabels=['Class 0', 'Class 1'], yticklabels=['Class 0', 'Class 1'], fmt='')\n",
    "plt.xlabel('Predicted')\n",
    "plt.ylabel('True')\n",
    "plt.title('Confusion Matrix')\n",
    "plt.show()"
   ]
  },
  {
   "cell_type": "code",
   "execution_count": 228,
   "metadata": {},
   "outputs": [
    {
     "data": {
      "image/png": "[encoded data removed]",
      "text/plain": [
       "<Figure size 640x480 with 1 Axes>"
      ]
     },
     "metadata": {},
     "output_type": "display_data"
    }
   ],
   "source": [
    "y_probablities = model.predict_proba(X_test)[:, 1]\n",
    "fpr, tpr, tresholds = roc_curve(y_test, y_probablities)\n",
    "roc_auc = auc(fpr, tpr)\n",
    "\n",
    "plt.plot(fpr, tpr, color='blue', lw=2, label=f'ROC curve (area = {roc_auc:.2f})')\n",
    "\n",
    "# Base line\n",
    "plt.plot([0, 1], [0, 1], color='gray', linestyle='--')\n",
    "\n",
    "plt.xlim([0.0, 1.0])\n",
    "plt.ylim([0.0, 1.05])\n",
    "plt.xlabel('False Positive Rate')\n",
    "plt.ylabel('True Positive Rate')\n",
    "plt.title('Receiver Operating Characteristic (ROC)')\n",
    "plt.legend(loc='lower right')\n",
    "\n",
    "plt.show()"
   ]
  },
  {
   "cell_type": "code",
   "execution_count": 229,
   "metadata": {},
   "outputs": [
    {
     "name": "stdout",
     "output_type": "stream",
     "text": [
      "Best Logistic Regression from CV: 0.7932960893854749\n",
      "Mean cross-validation accuracy: 0.8156862745098039\n",
      "Model parameters: {'C': 0.5, 'class_weight': None, 'dual': False, 'fit_intercept': True, 'intercept_scaling': 1, 'l1_ratio': None, 'max_iter': 100, 'multi_class': 'auto', 'n_jobs': None, 'penalty': 'l2', 'random_state': None, 'solver': 'lbfgs', 'tol': 0.001, 'verbose': 0, 'warm_start': False}\n",
      "Mean cross-validation F1-score: 0.753023643023643\n",
      "Mean cross-validation ROC AUC: 0.8669642857142857\n"
     ]
    }
   ],
   "source": [
    "pipeline = Pipeline([\n",
    "    ('skaler', MinMaxScaler()),\n",
    "    ('model', LogisticRegression())\n",
    "])\n",
    "param_grid = {\n",
    "    'model__penalty': ['l2'],\n",
    "    'model__solver': ['lbfgs', 'liblinear', 'newton-cg', 'newton-cholesky', 'sag', 'saga'],\n",
    "    'model__tol': [0.001, 0.0001, 0.00001, 0.000001, 0.0000001],\n",
    "    'model__C': [0.1, 0.5, 0.8, 1.0, 5.0],\n",
    "    'model__max_iter': [100, 300, 500, 1000]\n",
    "}\n",
    "\n",
    "grid_search = GridSearchCV(pipeline, param_grid, cv=10)\n",
    "grid_search.fit(X_train, y_train)\n",
    "best_model = grid_search.best_estimator_\n",
    "\n",
    "preds = best_model.predict(X_test)\n",
    "accuracy = accuracy_score(y_test, preds)\n",
    "cross_val_scores = cross_val_score(best_model, X_test, y_test, cv=10, scoring='accuracy')\n",
    "f1_scores = cross_val_score(best_model, X_test, y_test, cv=10, scoring='f1')\n",
    "roc_auc_scores = cross_val_score(best_model, X_test, y_test, cv=10, scoring='roc_auc')\n",
    "params = best_model.named_steps['model'].get_params()\n",
    "\n",
    "print(f\"Best Logistic Regression from CV: {accuracy}\")\n",
    "print(f\"Mean cross-validation accuracy: {np.mean(cross_val_scores)}\")\n",
    "print(f\"Model parameters: {params}\")\n",
    "print(f\"Mean cross-validation F1-score: {np.mean(f1_scores)}\")\n",
    "print(f\"Mean cross-validation ROC AUC: {np.mean(roc_auc_scores)}\")"
   ]
  },
  {
   "cell_type": "markdown",
   "metadata": {},
   "source": [
    "### Other models"
   ]
  },
  {
   "cell_type": "code",
   "execution_count": 252,
   "metadata": {},
   "outputs": [
    {
     "name": "stdout",
     "output_type": "stream",
     "text": [
      "Accurancy with sklearn adaboost: 0.7932960893854749\n"
     ]
    }
   ],
   "source": [
    "from sklearn.tree import DecisionTreeClassifier\n",
    "from sklearn.ensemble import AdaBoostClassifier\n",
    "\n",
    "tree = DecisionTreeClassifier(max_depth=1, criterion='gini', splitter='best')\n",
    "adaboost = AdaBoostClassifier(estimator=tree, n_estimators=50, learning_rate=0.01, algorithm=\"SAMME\", random_state=42)\n",
    "adaboost.fit(X_train, y_train)\n",
    "preds = adaboost.predict(X_test)\n",
    "accurancy = accuracy_score(y_test, preds)\n",
    "print(f\"Accurancy with sklearn adaboost: {accuracy}\")"
   ]
  },
  {
   "cell_type": "code",
   "execution_count": 266,
   "metadata": {},
   "outputs": [
    {
     "name": "stdout",
     "output_type": "stream",
     "text": [
      "0.8268156424581006\n"
     ]
    }
   ],
   "source": [
    "from sklearn.ensemble import GradientBoostingClassifier\n",
    "\n",
    "gboost = GradientBoostingClassifier(n_estimators=50, learning_rate=0.1, max_depth=3, random_state=42)\n",
    "gboost.fit(X_train, y_train)\n",
    "preds = gboost.predict(X_test)\n",
    "accurancy = accuracy_score(y_test, preds)\n",
    "print(accurancy)"
   ]
  },
  {
   "cell_type": "markdown",
   "metadata": {},
   "source": [
    "paczka\n",
    "flask - jakas basic aplikacja webowa ...?\n",
    "sieci neuronowe\n",
    "jeszcze raz te modele\n",
    "powtórka c++ i jakas aplikacja w c++"
   ]
  },
  {
   "cell_type": "markdown",
   "metadata": {},
   "source": [
    "bcc51bda12980857\n",
    "b5f7660bfd8124f3\n",
    "5531a5c1ddcae67a\n",
    "60b909d596a7587c\n",
    "03ff89e6586798d1\n",
    "ef1fb16ee794cc7a\n",
    "e1e84a294c57bd28\n",
    "9d2f6c3c82eb8c9c\n",
    "\n",
    "PyPI recovery codes\n",
    "ed73fb0a15ee0f8e\n",
    "bda333f46e627277\n",
    "85daacf1dc152abd\n",
    "ad0f1572eef56dca\n",
    "3c07dd4ae00e7d15\n",
    "ee41bbb1bd50c61f\n",
    "abded5bdbf489201\n",
    "ee31a60d7139f9aa"
   ]
  }
 ],
 "metadata": {
  "kernelspec": {
   "display_name": "venv",
   "language": "python",
   "name": "python3"
  },
  "language_info": {
   "codemirror_mode": {
    "name": "ipython",
    "version": 3
   },
   "file_extension": ".py",
   "mimetype": "text/x-python",
   "name": "python",
   "nbconvert_exporter": "python",
   "pygments_lexer": "ipython3",
   "version": "3.11.2"
  }
 },
 "nbformat": 4,
 "nbformat_minor": 2
}
